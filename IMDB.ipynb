{
 "cells": [
  {
   "cell_type": "code",
   "execution_count": null,
   "metadata": {},
   "outputs": [],
   "source": [
    "import sklearn\n",
    "from sklearn.datasets import fetch_20newsgroups\n",
    "import numpy as np\n",
    "from sklearn import metrics\n",
    "from sklearn.feature_extraction.text import CountVectorizer, TfidfTransformer\n",
    "from sklearn.pipeline import Pipeline\n",
    "from sklearn.linear_model import LogisticRegression\n",
    "from sklearn.tree import DecisionTreeClassifier\n",
    "from sklearn.svm import LinearSVC\n",
    "from sklearn.ensemble import AdaBoostClassifier, RandomForestClassifier\n",
    "import time\n",
    "import matplotlib.pyplot as plt\n",
    "import seaborn as sns\n",
    "from sklearn.model_selection import GridSearchCV, RandomizedSearchCV\n",
    "import pandas as pd\n",
    "from pathlib import Path\n",
    "import os"
   ]
  },
  {
   "cell_type": "code",
   "execution_count": 8,
   "metadata": {},
   "outputs": [],
   "source": [
    "data_path = Path(os.getcwd())/'C:/Users/Yawan/Downloads/aclImdb'"
   ]
  },
  {
   "cell_type": "code",
   "execution_count": 9,
   "metadata": {},
   "outputs": [],
   "source": [
    "train_path = data_path/'train'\n",
    "test_path = data_path/'test'"
   ]
  },
  {
   "cell_type": "code",
   "execution_count": 10,
   "metadata": {},
   "outputs": [],
   "source": [
    "def read_data(dir_path):\n",
    "    \"\"\"read data into pandas dataframe\"\"\"\n",
    "    def load_dir_reviews(reviews_path):\n",
    "        files_list = list(reviews_path.iterdir())\n",
    "        reviews = []\n",
    "        for filename in files_list:\n",
    "            f = open(filename, 'r', encoding='utf-8')\n",
    "            reviews.append(f.read())\n",
    "        return pd.DataFrame({'text':reviews})\n",
    "    pos_path = dir_path/'pos'\n",
    "    neg_path = dir_path/'neg'\n",
    "    pos_reviews, neg_reviews = load_dir_reviews(pos_path), load_dir_reviews(neg_path)\n",
    "    pos_reviews['label'] = 1\n",
    "    neg_reviews['label'] = 0\n",
    "    merged = pd.concat([pos_reviews, neg_reviews])\n",
    "    merged.reset_index(inplace=True)\n",
    "    return merged"
   ]
  },
  {
   "cell_type": "code",
   "execution_count": 11,
   "metadata": {},
   "outputs": [],
   "source": [
    "train = read_data(train_path)\n",
    "test = read_data(test_path)"
   ]
  },
  {
   "cell_type": "code",
   "execution_count": 28,
   "metadata": {},
   "outputs": [],
   "source": [
    "train=train[:-1] #one row less than test set"
   ]
  },
  {
   "cell_type": "code",
   "execution_count": 29,
   "metadata": {},
   "outputs": [],
   "source": [
    "imdb_X_train, imdb_y_train = train['text'], train['label']\n",
    "imdb_X_test, imdb_y_test = test['text'], test['label']"
   ]
  },
  {
   "cell_type": "code",
   "execution_count": 32,
   "metadata": {},
   "outputs": [],
   "source": [
    "class TextProcess():\n",
    "    \n",
    "    def __init__(self, model):\n",
    "        self.model = model\n",
    "        self.vectorizer = CountVectorizer(ngram_range = (1,1), min_df=0, max_df=0.75)\n",
    "        self.tfidf = TfidfTransformer(norm='l2', sublinear_tf = True)\n",
    "        print(f\"-------------------{str(self.model).split('(')[0]}---------------------\")\n",
    "        \n",
    "# Modified some functions' inputs to fit the 2nd dataset   \n",
    "    def fit(self, train_X, train_y):\n",
    "        start_time = time.time()\n",
    "        self.train_X = train_X\n",
    "        self.train_y = train_y\n",
    "        self.text_clf = Pipeline([('vect',self.vectorizer),('tfidf',self.tfidf),('clf',self.model)])\n",
    "        self.text_clf.fit(self.train_X,self.train_y)\n",
    "        self.time = (time.time()-start_time)\n",
    "        print(f\"Time to fit: {(time.time()-start_time):.3f}s\")\n",
    "        \n",
    "    def predict(self, test_X, test_y):\n",
    "        self.test_X = test_X\n",
    "        self.test_y = test_y\n",
    "        self.predicted = self.text_clf.predict(self.test_X)\n",
    "        self.accuracy = np.mean(self.predicted == self.test_y)\n",
    "        print(f\"{str(self.model).split('(')[0]} accuracy: {self.accuracy*100:.2f}%\")\n",
    "        \n",
    "    def classification_report(self):\n",
    "        print(metrics.classification_report(self.test_y,self.predicted))\n",
    "        \n",
    "    def confusion_matrix(self):\n",
    "        self.conf_matrix = metrics.confusion_matrix(self.test_y, self.predicted)\n",
    "        for i,j in zip(self.conf_matrix,self.test_y):\n",
    "            print(j)\n",
    "            print(i)\n",
    "\n",
    "    def stemmer(text):\n",
    "      ps=nltk.porter.PorterStemmer()\n",
    "      text= ' '.join([ps.stem(word) for word in text.split()])\n",
    "      return text"
   ]
  },
  {
   "cell_type": "code",
   "execution_count": 19,
   "metadata": {},
   "outputs": [],
   "source": [
    "model_list = [LogisticRegression(multi_class='auto', solver='liblinear',penalty='l2', C=6.3), DecisionTreeClassifier(criterion = 'gini', min_samples_split=92, splitter='random', min_samples_leaf=1), LinearSVC(C = 1, loss='squared_hinge', penalty='l2'), AdaBoostClassifier(learning_rate=0.5, n_estimators=160, base_estimator=DecisionTreeClassifier(max_depth=1)), RandomForestClassifier(min_samples_split=22, min_samples_leaf=1, n_estimators=600)]"
   ]
  },
  {
   "cell_type": "code",
   "execution_count": 43,
   "metadata": {},
   "outputs": [
    {
     "name": "stdout",
     "output_type": "stream",
     "text": [
      "-------------------LogisticRegression---------------------\n",
      "Time to fit: 6.285s\n",
      "LogisticRegression accuracy: 88.66%\n",
      "              precision    recall  f1-score   support\n",
      "\n",
      "           0       0.88      0.89      0.89     12500\n",
      "           1       0.89      0.88      0.89     12499\n",
      "\n",
      "    accuracy                           0.89     24999\n",
      "   macro avg       0.89      0.89      0.89     24999\n",
      "weighted avg       0.89      0.89      0.89     24999\n",
      "\n",
      "1\n",
      "[11144  1356]\n",
      "1\n",
      "[ 1480 11019]\n",
      "-------------------DecisionTreeClassifier---------------------\n",
      "Time to fit: 29.568s\n",
      "DecisionTreeClassifier accuracy: 71.47%\n",
      "              precision    recall  f1-score   support\n",
      "\n",
      "           0       0.71      0.74      0.72     12500\n",
      "           1       0.72      0.69      0.71     12499\n",
      "\n",
      "    accuracy                           0.71     24999\n",
      "   macro avg       0.72      0.71      0.71     24999\n",
      "weighted avg       0.72      0.71      0.71     24999\n",
      "\n",
      "1\n",
      "[9213 3287]\n",
      "1\n",
      "[3845 8654]\n",
      "-------------------LinearSVC---------------------\n",
      "Time to fit: 5.294s\n",
      "LinearSVC accuracy: 87.98%\n",
      "              precision    recall  f1-score   support\n",
      "\n",
      "           0       0.87      0.89      0.88     12500\n",
      "           1       0.89      0.87      0.88     12499\n",
      "\n",
      "    accuracy                           0.88     24999\n",
      "   macro avg       0.88      0.88      0.88     24999\n",
      "weighted avg       0.88      0.88      0.88     24999\n",
      "\n",
      "1\n",
      "[11099  1401]\n",
      "1\n",
      "[ 1605 10894]\n",
      "-------------------AdaBoostClassifier---------------------\n",
      "Time to fit: 81.888s\n",
      "AdaBoostClassifier accuracy: 84.22%\n",
      "              precision    recall  f1-score   support\n",
      "\n",
      "           0       0.87      0.81      0.84     12500\n",
      "           1       0.82      0.87      0.85     12499\n",
      "\n",
      "    accuracy                           0.84     24999\n",
      "   macro avg       0.84      0.84      0.84     24999\n",
      "weighted avg       0.84      0.84      0.84     24999\n",
      "\n",
      "1\n",
      "[10131  2369]\n",
      "1\n",
      "[ 1576 10923]\n",
      "-------------------RandomForestClassifier---------------------\n",
      "Time to fit: 199.649s\n",
      "RandomForestClassifier accuracy: 85.48%\n",
      "              precision    recall  f1-score   support\n",
      "\n",
      "           0       0.85      0.86      0.86     12500\n",
      "           1       0.86      0.85      0.85     12499\n",
      "\n",
      "    accuracy                           0.85     24999\n",
      "   macro avg       0.85      0.85      0.85     24999\n",
      "weighted avg       0.85      0.85      0.85     24999\n",
      "\n",
      "1\n",
      "[10791  1709]\n",
      "1\n",
      "[ 1920 10579]\n"
     ]
    }
   ],
   "source": [
    "time_list = []\n",
    "accuracy_list = []\n",
    "for model in model_list:\n",
    "    processor = TextProcess(model)\n",
    "    processor.fit(imdb_X_train, imdb_y_train)\n",
    "    processor.predict(imdb_X_test, imdb_y_test)\n",
    "    processor.classification_report()\n",
    "    processor.confusion_matrix()\n",
    "    time_list.append(processor.time)\n",
    "    accuracy_list.append(processor.accuracy*100)"
   ]
  },
  {
   "cell_type": "code",
   "execution_count": 44,
   "metadata": {},
   "outputs": [
    {
     "data": {
      "image/png": "[encoded data removed]",
      "text/plain": [
       "<Figure size 432x288 with 1 Axes>"
      ]
     },
     "metadata": {
      "needs_background": "light"
     },
     "output_type": "display_data"
    }
   ],
   "source": [
    "n_groups = len(time_list)\n",
    "fig, ax = plt.subplots()\n",
    "index = np.arange(n_groups)\n",
    "bar_width = 0.35\n",
    "rects1 = plt.bar(index+bar_width, time_list, bar_width, alpha=1, label='Train Time', color='b')\n",
    "rects2 = plt.bar(index, accuracy_list, bar_width, alpha=1, label='Accuracy', color='g')\n",
    "plt.xlabel('Model')\n",
    "plt.ylabel('Scores')\n",
    "plt.title('IDMB Scores by model')\n",
    "plt.xticks(index + bar_width-0.2, ('LR', 'Decision Tree', 'SVM', 'AdaBoost', 'Random Forest'))\n",
    "plt.legend()\n",
    "\n",
    "plt.tight_layout()\n",
    "plt.show()"
   ]
  },
  {
   "cell_type": "code",
   "execution_count": 36,
   "metadata": {},
   "outputs": [],
   "source": [
    "def report(results, top=3):\n",
    "    for i in range(1, top+1):\n",
    "        candidates = np.flatnonzero(results['rank_test_score'] == i)\n",
    "        for candidate in candidates:\n",
    "            print(\"Model with rank: {0}\".format(i))\n",
    "            print(\"Mean validation score: {0:.3f} (std: {1:.3f})\"\n",
    "                  .format(results['mean_test_score'][candidate],\n",
    "                          results['std_test_score'][candidate]))\n",
    "            print(\"Parameters: {0}\".format(results['params'][candidate]))\n",
    "            print(\"\")"
   ]
  },
  {
   "cell_type": "code",
   "execution_count": 38,
   "metadata": {},
   "outputs": [
    {
     "name": "stdout",
     "output_type": "stream",
     "text": [
      "GridSearchCV took 280.50 seconds for 5 candidates parameter settings.\n",
      "Model with rank: 1\n",
      "Mean validation score: 0.875 (std: 0.005)\n",
      "Parameters: {'clf__C': 2.5500000000000003, 'clf__penalty': 'l2', 'clf__solver': 'liblinear'}\n",
      "\n",
      "Model with rank: 2\n",
      "Mean validation score: 0.875 (std: 0.005)\n",
      "Parameters: {'clf__C': 3.7750000000000004, 'clf__penalty': 'l2', 'clf__solver': 'liblinear'}\n",
      "\n",
      "Model with rank: 3\n",
      "Mean validation score: 0.874 (std: 0.005)\n",
      "Parameters: {'clf__C': 5.0, 'clf__penalty': 'l2', 'clf__solver': 'liblinear'}\n",
      "\n"
     ]
    }
   ],
   "source": [
    "param_dist = {'clf__penalty': ['l2'],\n",
    "              'clf__solver': ['liblinear'],\n",
    "              'clf__C': np.linspace(0.1,5,5)}\n",
    "clf = LogisticRegression(multi_class='auto')\n",
    "text_clf = Pipeline([('vect',CountVectorizer(ngram_range=(1,2), min_df = 10, max_df = 1.)),('tfidf',TfidfTransformer()),('clf',clf)])\n",
    "random_search = GridSearchCV(text_clf, param_grid = param_dist, cv=3)\n",
    "start_time = time.time()\n",
    "random_search.fit(imdb_X_train, imdb_y_test)\n",
    "print(\"GridSearchCV took %.2f seconds for %d candidates\"\n",
    "      \" parameter settings.\" % ((time.time() - start_time), len(random_search.cv_results_['params'])))\n",
    "report(random_search.cv_results_)"
   ]
  },
  {
   "cell_type": "markdown",
   "metadata": {},
   "source": [
    "### Logistic regression with stopwords removed"
   ]
  },
  {
   "cell_type": "code",
   "execution_count": 45,
   "metadata": {},
   "outputs": [
    {
     "name": "stdout",
     "output_type": "stream",
     "text": [
      "GridSearchCV took 224.56 seconds for 5 candidates parameter settings.\n",
      "Model with rank: 1\n",
      "Mean validation score: 0.856 (std: 0.008)\n",
      "Parameters: {'clf__C': 1.3250000000000002, 'clf__penalty': 'l2', 'clf__solver': 'liblinear'}\n",
      "\n",
      "Model with rank: 2\n",
      "Mean validation score: 0.852 (std: 0.009)\n",
      "Parameters: {'clf__C': 2.5500000000000003, 'clf__penalty': 'l2', 'clf__solver': 'liblinear'}\n",
      "\n",
      "Model with rank: 3\n",
      "Mean validation score: 0.850 (std: 0.009)\n",
      "Parameters: {'clf__C': 3.7750000000000004, 'clf__penalty': 'l2', 'clf__solver': 'liblinear'}\n",
      "\n"
     ]
    }
   ],
   "source": [
    "param_dist = {'clf__penalty': ['l2'],\n",
    "              'clf__solver': ['liblinear'],\n",
    "              'clf__C': np.linspace(0.1,5,5)}\n",
    "clf = LogisticRegression(multi_class='auto')\n",
    "text_clf = Pipeline([('vect',CountVectorizer(stop_words='english', ngram_range=(1,2), min_df = 10, max_df = 1.)),('tfidf',TfidfTransformer()),('clf',clf)])\n",
    "random_search = GridSearchCV(text_clf, param_grid = param_dist, cv=3)\n",
    "start_time = time.time()\n",
    "random_search.fit(imdb_X_train, imdb_y_test)\n",
    "print(\"GridSearchCV took %.2f seconds for %d candidates\"\n",
    "      \" parameter settings.\" % ((time.time() - start_time), len(random_search.cv_results_['params'])))\n",
    "report(random_search.cv_results_)"
   ]
  },
  {
   "cell_type": "markdown",
   "metadata": {},
   "source": [
    "### Removing stopwords does not improve accuracy, so we will be using the original dataset for the rest of the models."
   ]
  },
  {
   "cell_type": "code",
   "execution_count": null,
   "metadata": {},
   "outputs": [],
   "source": [
    "param_dist = {'clf__criterion': ['gini'],\n",
    "             'clf__min_samples_split': range(2,100,10)}\n",
    "clf = DecisionTreeClassifier()\n",
    "text_clf = Pipeline([('vect',CountVectorizer(ngram_range=(1,2), min_df = 10, max_df = 1.)),('tfidf',TfidfTransformer()),('clf',clf)])\n",
    "grid_search = GridSearchCV(text_clf, param_grid = param_dist, cv=3)\n",
    "start_time = time.time()\n",
    "grid_search.fit(imdb_X_train, imdb_y_test)\n",
    "print(\"GridSearchCV took %.2f seconds for %d candidates\"\n",
    "      \" parameter settings.\" % ((time.time() - start_time), len(grid_search.cv_results_['params'])))\n",
    "report(grid_search.cv_results_)"
   ]
  },
  {
   "cell_type": "code",
   "execution_count": null,
   "metadata": {},
   "outputs": [],
   "source": [
    "param_dist = { 'clf__penalty': ['l2'],\n",
    "              'clf__loss' : ['hinge', 'squared_hinge'],\n",
    "              'clf__C' : np.linspace(0.1,2,5),\n",
    "}\n",
    "\n",
    "clf = LinearSVC()\n",
    "text_clf = Pipeline([('vect',CountVectorizer(ngram_range=(1,2), min_df = 10, max_df = 1.)),('tfidf',TfidfTransformer()),('clf',clf)])\n",
    "grid_search = GridSearchCV(text_clf, param_grid = param_dist, cv=3)\n",
    "start_time = time.time()\n",
    "grid_search.fit(imdb_X_train, imdb_y_test)\n",
    "print(\"GridSearchCV took %.2f seconds for %d candidates\"\n",
    "      \" parameter settings.\" % ((time.time() - start_time), len(grid_search.cv_results_['params'])))\n",
    "report(grid_search.cv_results_)"
   ]
  },
  {
   "cell_type": "code",
   "execution_count": null,
   "metadata": {},
   "outputs": [],
   "source": [
    "param_dist = { 'clf__n_estimators' : range(10, 500, 200),\n",
    "              'clf__learning_rate' : np.linspace(0.5,2,3)\n",
    "    \n",
    "}\n",
    "\n",
    "clf = AdaBoostClassifier(DecisionTreeClassifier())\n",
    "text_clf = Pipeline([('vect',CountVectorizer(ngram_range=(1,2), min_df = 10, max_df = 1.)),('tfidf',TfidfTransformer()),('clf',clf)])\n",
    "grid_search = GridSearchCV(text_clf, param_grid = param_dist, cv=3)\n",
    "start_time = time.time()\n",
    "grid_search.fit(imdb_X_train, imdb_y_test)\n",
    "print(\"GridSearchCV took %.2f seconds for %d candidates\"\n",
    "      \" parameter settings.\" % ((time.time() - start_time), len(grid_search.cv_results_['params'])))\n",
    "report(grid_search.cv_results_)"
   ]
  },
  {
   "cell_type": "code",
   "execution_count": null,
   "metadata": {},
   "outputs": [],
   "source": [
    "param_dist = {'clf__n_estimators' : range(10, 500, 200),\n",
    "              'clf__min_samples_split': range(2,100,10)\n",
    "}\n",
    "\n",
    "clf = RandomForestClassifier()\n",
    "text_clf = Pipeline([('vect',CountVectorizer(ngram_range=(1,2), min_df = 10, max_df = 1.)),('tfidf',TfidfTransformer()),('clf',clf)])\n",
    "grid_search = GridSearchCV(text_clf, param_grid = param_dist, cv=3)\n",
    "start_time = time.time()\n",
    "grid_search.fit(imdb_X_train, imdb_y_test)\n",
    "print(\"GridSearchCV took %.2f seconds for %d candidates\"\n",
    "      \" parameter settings.\" % ((time.time() - start_time), len(grid_search.cv_results_['params'])))\n",
    "report(grid_search.cv_results_)"
   ]
  }
 ],
 "metadata": {
  "kernelspec": {
   "display_name": "Python 3",
   "language": "python",
   "name": "python3"
  },
  "language_info": {
   "codemirror_mode": {
    "name": "ipython",
    "version": 3
   },
   "file_extension": ".py",
   "mimetype": "text/x-python",
   "name": "python",
   "nbconvert_exporter": "python",
   "pygments_lexer": "ipython3",
   "version": "3.6.9"
  }
 },
 "nbformat": 4,
 "nbformat_minor": 2
}
