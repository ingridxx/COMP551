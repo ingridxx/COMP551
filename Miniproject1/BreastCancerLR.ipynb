{
 "cells": [
  {
   "cell_type": "code",
   "execution_count": 1,
   "metadata": {},
   "outputs": [],
   "source": [
    "import numpy as np\n",
    "import pandas as pd\n",
    "from random import randrange\n",
    "from sklearn.preprocessing import OneHotEncoder\n",
    "from sklearn.compose import ColumnTransformer\n",
    "import seaborn as sns\n",
    "import matplotlib.pyplot as plt"
   ]
  },
  {
   "cell_type": "code",
   "execution_count": 51,
   "metadata": {},
   "outputs": [],
   "source": [
    "header = ['ID', 'Clump_Thickness', 'Uniformity_of_Cell_Size', 'Uniformity_of_Cell_Shape',\n",
    "                       'Marginal_Adhesion', 'Single_Epithelial_Cell_Size', 'Bare_Nuclei', 'Bland_Chromatin',\n",
    "                       'Normal_Nucleoli', 'Mitoses', 'Class']\n",
    "bc_df = pd.read_csv(\"../Downloads/breast-cancer-wisconsin.data\", names=header)"
   ]
  },
  {
   "cell_type": "code",
   "execution_count": 34,
   "metadata": {},
   "outputs": [
    {
     "data": {
      "text/plain": [
       "ID                             0\n",
       "Clump_Thickness                0\n",
       "Uniformity_of_Cell_Size        0\n",
       "Uniformity_of_Cell_Shape       0\n",
       "Marginal_Adhesion              0\n",
       "Single_Epithelial_Cell_Size    0\n",
       "Bare_Nuclei                    0\n",
       "Bland_Chromatin                0\n",
       "Normal_Nucleoli                0\n",
       "Mitoses                        0\n",
       "Class                          0\n",
       "dtype: int64"
      ]
     },
     "execution_count": 34,
     "metadata": {},
     "output_type": "execute_result"
    }
   ],
   "source": [
    "bc_df.isnull().sum()"
   ]
  },
  {
   "cell_type": "code",
   "execution_count": 35,
   "metadata": {},
   "outputs": [
    {
     "name": "stdout",
     "output_type": "stream",
     "text": [
      "Bare_Nuclei: 16 missing\n"
     ]
    }
   ],
   "source": [
    "for i,j in zip(bc_df.columns,(bc_df.values.astype(str) == '?').sum(axis = 0)):\n",
    "    if j > 0:\n",
    "        print(str(i) + ': ' + str(j) + ' missing')   "
   ]
  },
  {
   "cell_type": "code",
   "execution_count": 53,
   "metadata": {},
   "outputs": [],
   "source": [
    "#Drop the 16 samples with missing bare nuclei information.\n",
    "bc_df = bc_df[bc_df.Bare_Nuclei!='?']"
   ]
  },
  {
   "cell_type": "code",
   "execution_count": 54,
   "metadata": {},
   "outputs": [],
   "source": [
    "bc_df=bc_df.astype(float)\n",
    "bc_df['Class']=bc_df['Class'].map({2:0, 4:1})\n",
    "#Dropping the irrelevant ID column \n",
    "bc_df=bc_df.drop(['ID'], axis=1)"
   ]
  },
  {
   "cell_type": "code",
   "execution_count": 57,
   "metadata": {},
   "outputs": [
    {
     "data": {
      "text/plain": [
       "(683, 10)"
      ]
     },
     "execution_count": 57,
     "metadata": {},
     "output_type": "execute_result"
    }
   ],
   "source": [
    "bc_df.shape #683x10"
   ]
  },
  {
   "cell_type": "code",
   "execution_count": 56,
   "metadata": {},
   "outputs": [
    {
     "data": {
      "text/html": [
       "<div>\n",
       "<style scoped>\n",
       "    .dataframe tbody tr th:only-of-type {\n",
       "        vertical-align: middle;\n",
       "    }\n",
       "\n",
       "    .dataframe tbody tr th {\n",
       "        vertical-align: top;\n",
       "    }\n",
       "\n",
       "    .dataframe thead th {\n",
       "        text-align: right;\n",
       "    }\n",
       "</style>\n",
       "<table border=\"1\" class=\"dataframe\">\n",
       "  <thead>\n",
       "    <tr style=\"text-align: right;\">\n",
       "      <th></th>\n",
       "      <th>Clump_Thickness</th>\n",
       "      <th>Uniformity_of_Cell_Size</th>\n",
       "      <th>Uniformity_of_Cell_Shape</th>\n",
       "      <th>Marginal_Adhesion</th>\n",
       "      <th>Single_Epithelial_Cell_Size</th>\n",
       "      <th>Bare_Nuclei</th>\n",
       "      <th>Bland_Chromatin</th>\n",
       "      <th>Normal_Nucleoli</th>\n",
       "      <th>Mitoses</th>\n",
       "      <th>Class</th>\n",
       "    </tr>\n",
       "  </thead>\n",
       "  <tbody>\n",
       "    <tr>\n",
       "      <th>694</th>\n",
       "      <td>3.0</td>\n",
       "      <td>1.0</td>\n",
       "      <td>1.0</td>\n",
       "      <td>1.0</td>\n",
       "      <td>3.0</td>\n",
       "      <td>2.0</td>\n",
       "      <td>1.0</td>\n",
       "      <td>1.0</td>\n",
       "      <td>1.0</td>\n",
       "      <td>0</td>\n",
       "    </tr>\n",
       "    <tr>\n",
       "      <th>695</th>\n",
       "      <td>2.0</td>\n",
       "      <td>1.0</td>\n",
       "      <td>1.0</td>\n",
       "      <td>1.0</td>\n",
       "      <td>2.0</td>\n",
       "      <td>1.0</td>\n",
       "      <td>1.0</td>\n",
       "      <td>1.0</td>\n",
       "      <td>1.0</td>\n",
       "      <td>0</td>\n",
       "    </tr>\n",
       "    <tr>\n",
       "      <th>696</th>\n",
       "      <td>5.0</td>\n",
       "      <td>10.0</td>\n",
       "      <td>10.0</td>\n",
       "      <td>3.0</td>\n",
       "      <td>7.0</td>\n",
       "      <td>3.0</td>\n",
       "      <td>8.0</td>\n",
       "      <td>10.0</td>\n",
       "      <td>2.0</td>\n",
       "      <td>1</td>\n",
       "    </tr>\n",
       "    <tr>\n",
       "      <th>697</th>\n",
       "      <td>4.0</td>\n",
       "      <td>8.0</td>\n",
       "      <td>6.0</td>\n",
       "      <td>4.0</td>\n",
       "      <td>3.0</td>\n",
       "      <td>4.0</td>\n",
       "      <td>10.0</td>\n",
       "      <td>6.0</td>\n",
       "      <td>1.0</td>\n",
       "      <td>1</td>\n",
       "    </tr>\n",
       "    <tr>\n",
       "      <th>698</th>\n",
       "      <td>4.0</td>\n",
       "      <td>8.0</td>\n",
       "      <td>8.0</td>\n",
       "      <td>5.0</td>\n",
       "      <td>4.0</td>\n",
       "      <td>5.0</td>\n",
       "      <td>10.0</td>\n",
       "      <td>4.0</td>\n",
       "      <td>1.0</td>\n",
       "      <td>1</td>\n",
       "    </tr>\n",
       "  </tbody>\n",
       "</table>\n",
       "</div>"
      ],
      "text/plain": [
       "     Clump_Thickness  Uniformity_of_Cell_Size  Uniformity_of_Cell_Shape  \\\n",
       "694              3.0                      1.0                       1.0   \n",
       "695              2.0                      1.0                       1.0   \n",
       "696              5.0                     10.0                      10.0   \n",
       "697              4.0                      8.0                       6.0   \n",
       "698              4.0                      8.0                       8.0   \n",
       "\n",
       "     Marginal_Adhesion  Single_Epithelial_Cell_Size  Bare_Nuclei  \\\n",
       "694                1.0                          3.0          2.0   \n",
       "695                1.0                          2.0          1.0   \n",
       "696                3.0                          7.0          3.0   \n",
       "697                4.0                          3.0          4.0   \n",
       "698                5.0                          4.0          5.0   \n",
       "\n",
       "     Bland_Chromatin  Normal_Nucleoli  Mitoses  Class  \n",
       "694              1.0              1.0      1.0      0  \n",
       "695              1.0              1.0      1.0      0  \n",
       "696              8.0             10.0      2.0      1  \n",
       "697             10.0              6.0      1.0      1  \n",
       "698             10.0              4.0      1.0      1  "
      ]
     },
     "execution_count": 56,
     "metadata": {},
     "output_type": "execute_result"
    }
   ],
   "source": [
    "#class 2 = benign, class 4 = malignant\n",
    "bc_df.tail()"
   ]
  },
  {
   "cell_type": "code",
   "execution_count": 87,
   "metadata": {},
   "outputs": [],
   "source": [
    "\n",
    "class LogisticRegression:\n",
    "    \n",
    "    def __init__(self, percentage=0.5, lr=0.01, max_iter=10000, beta=0.99, reg_term=0):  # percentage = train/cv+test split\n",
    "#        self.data = data\n",
    "        self.percentage = percentage\n",
    "        self.gradient_values, self.train_acc_values, self.cv_acc_values = [], [], []\n",
    "        self.cv_acc, self.select_line, self.cv_acc_mean = 0, 0, 0\n",
    "        self.learning_rate = lr\n",
    "        self.max_iter = max_iter\n",
    "        self.beta = beta\n",
    "        self.reg_term = reg_term\n",
    "        \n",
    "    def predict_proba(self, X, theta):\n",
    "        return self.sigmoid(np.dot(X, theta))\n",
    "\n",
    "    def predict(self, X, theta):\n",
    "        prediction = self.predict_proba(X, theta)\n",
    "        predict_arr = []\n",
    "        for i in prediction:\n",
    "            if i>=0.5:\n",
    "                predict_arr.append(1)\n",
    "            else:\n",
    "                predict_arr.append(0)\n",
    "\n",
    "        return predict_arr\n",
    "\n",
    "    def accuracy(self, predict_arr, y):\n",
    "        correct = 0\n",
    "        for i,j in zip(predict_arr, y):\n",
    "            if i==j[0]:\n",
    "                correct+=1\n",
    "        return correct/len(y)  # accuracy = # tp+tn / total\n",
    "\n",
    "    def sigmoid(self, x):\n",
    "        return 1/(1+np.exp(-x))\n",
    "\n",
    "    def gradient(self, X, y, theta, lambdaa):  # lambdaa is regularization term\n",
    "        N, D = len(X[0]), len(X[0])\n",
    "        yh = self.sigmoid(np.dot(X, theta))\n",
    "        grad = np.dot(X.T, yh-y) / N\n",
    "        grad[1:] += lambdaa * theta[1:]\n",
    "        return grad\n",
    "    \n",
    "    def fit(self, X, y, cv_X, cv_y, learning_rate=0.1, max_iter=10000, beta=0.99, reg_term=0.5):  # attempted termination condition - lack of improvement in cross validation set\n",
    "        learning_rate = self.learning_rate\n",
    "        max_iter = self.max_iter\n",
    "        beta = self.beta\n",
    "        reg_term = self.reg_term\n",
    "        N, D = len(X[0]), len(X[0])\n",
    "        theta = np.zeros((len(X[0]), 1))\n",
    "        y = np.reshape(y, (-1,1))  # creates two-dimensional array\n",
    "        cv_y = np.reshape(cv_y, (-1,1))\n",
    "        iterate, cv_acc, prev_cv_acc, d_theta = 0, 0, 0, 0\n",
    "        max_cv_acc = 0  # maximum cross validation accuracy - records thetas at highest cv_acc \n",
    "        best_theta = theta\n",
    "        g = np.inf\n",
    "        eps = 1e-2\n",
    "        while (np.linalg.norm(g) > eps):  # can add in 'or cv_acc>=prev_cv_acc-0.03' to stop when gradient becomes too small, 0.03 gives buffer\n",
    "            g = self.gradient(X, y, theta, reg_term)\n",
    "            d_theta = (1-beta)*g + beta*d_theta  # momentum\n",
    "            theta = theta-learning_rate*d_theta\n",
    "            \n",
    "            if iterate % 10 == 0:\n",
    "                cv_pred = self.predict(cv_X, theta)\n",
    "                prev_cv_acc = cv_acc\n",
    "                cv_acc = self.accuracy(cv_pred, cv_y)\n",
    "                train_pred = self.predict(X, theta)\n",
    "                train_acc = self.accuracy(train_pred, y)\n",
    "            if cv_acc >= max_cv_acc:  # checks if maximum accuracy thus far\n",
    "                max_cv_acc = cv_acc\n",
    "                best_theta = theta\n",
    "                self.select_line = iterate\n",
    "            iterate+=1\n",
    "            self.gradient_values.append(np.linalg.norm(g))\n",
    "            self.train_acc_values.append(train_acc)\n",
    "            self.cv_acc_values.append(cv_acc)\n",
    "#             if iterate % 100 == 0:\n",
    "#                 print(np.linalg.norm(g)/len(X))\n",
    "            if iterate > max_iter:  # since it may not always converge, place a hard ceiling on number of iterations\n",
    "                break\n",
    "        print(max_cv_acc)\n",
    "        print(cv_acc)\n",
    "        self.cv_acc = max_cv_acc\n",
    "        self.cv_acc_mean = np.mean(self.cv_acc_values)\n",
    "        return best_theta\n",
    "    \n",
    "    def get_test_acc(self, test_X, test_y, thetas):\n",
    "        test_y = np.reshape(test_y, (-1,1))\n",
    "        \n",
    "        return self.accuracy(self.predict(test_X, thetas), test_y)"
   ]
  },
  {
   "cell_type": "code",
   "execution_count": 58,
   "metadata": {},
   "outputs": [],
   "source": [
    "new_input = bc_df\n",
    "new_input.insert(0, column='Bias', value=1)\n",
    "new_input = new_input.sample(frac=1)  # randomly shuffles dataset"
   ]
  },
  {
   "cell_type": "code",
   "execution_count": 93,
   "metadata": {},
   "outputs": [
    {
     "name": "stdout",
     "output_type": "stream",
     "text": [
      "0.9632352941176471\n",
      "0.9485294117647058\n",
      "0.9779411764705882\n",
      "0.9705882352941176\n",
      "0.9703703703703703\n",
      "0.9703703703703703\n",
      "0.9705882352941176\n",
      "0.9705882352941176\n",
      "0.9779411764705882\n",
      "0.9779411764705882\n",
      "0.9632352941176471\n",
      "0.9558823529411765\n",
      "0.9705882352941176\n",
      "0.9705882352941176\n",
      "0.9703703703703703\n",
      "0.9703703703703703\n",
      "0.9779411764705882\n",
      "0.9779411764705882\n",
      "0.9779411764705882\n",
      "0.9779411764705882\n",
      "0.9632352941176471\n",
      "0.9485294117647058\n",
      "0.9779411764705882\n",
      "0.9705882352941176\n",
      "0.9703703703703703\n",
      "0.9629629629629629\n",
      "0.9779411764705882\n",
      "0.9779411764705882\n",
      "0.9779411764705882\n",
      "0.9779411764705882\n",
      "0.9632352941176471\n",
      "0.9485294117647058\n",
      "0.9852941176470589\n",
      "0.9705882352941176\n",
      "0.9703703703703703\n",
      "0.9629629629629629\n",
      "0.9779411764705882\n",
      "0.9779411764705882\n",
      "0.9779411764705882\n",
      "0.9779411764705882\n",
      "0.9632352941176471\n",
      "0.9485294117647058\n",
      "0.9852941176470589\n",
      "0.9705882352941176\n",
      "0.9777777777777777\n",
      "0.9629629629629629\n",
      "0.9852941176470589\n",
      "0.9779411764705882\n",
      "0.9779411764705882\n",
      "0.9779411764705882\n",
      "0.9632352941176471\n",
      "0.9485294117647058\n",
      "0.9852941176470589\n",
      "0.9705882352941176\n",
      "0.9777777777777777\n",
      "0.9629629629629629\n",
      "0.9926470588235294\n",
      "0.9779411764705882\n",
      "0.9779411764705882\n",
      "0.9779411764705882\n"
     ]
    }
   ],
   "source": [
    "folds = 5\n",
    "accuracies = []\n",
    "mean_acc = []\n",
    "learning_rate = [0.0005, 0.001, 0.005, 0.01, 0.05, 0.1]\n",
    "for lr in learning_rate:\n",
    "    for i in range(folds):\n",
    "\n",
    "        start_bias = 0\n",
    "        end_bias = 1\n",
    "        if i>0:\n",
    "            start_bias = 1  # to exclude last term in previous partition\n",
    "        if i >= folds-1:\n",
    "            end_bias = 0\n",
    "        percentage = 1/folds\n",
    "        length = len(new_input)\n",
    "        test_set = new_input.iloc[int(percentage*(i)*length+start_bias):int(percentage*(i+1)*length), :]\n",
    "\n",
    "        train_set_1 = new_input.iloc[int(percentage*(i+1)*length)+end_bias:length, :]\n",
    "        train_set_2 = new_input.iloc[0:int(percentage*(i)*length), :]\n",
    "        train_set = pd.concat([train_set_1, train_set_2])\n",
    "        \n",
    "        train_X = train_set.iloc[:, :-1]\n",
    "        train_y = train_set.iloc[:, -1]\n",
    "\n",
    "        test_X = test_set.iloc[:, :-1]\n",
    "        test_y = test_set.iloc[:, -1]\n",
    "        \n",
    "        log_reg = LogisticRegression(percentage=0.6, lr = lr)\n",
    "        log_reg.fit(train_X.values, train_y.values, test_X.values, test_y.values)\n",
    "        accuracies.append(log_reg.cv_acc_mean)\n",
    "        plt.figure()\n",
    "        plt.plot(log_reg.train_acc_values, label = 'Training accuracy')\n",
    "        plt.plot(log_reg.cv_acc_values, label='CV accuracy')\n",
    "        plt.axvline(log_reg.select_line, color='r', label='Weights Selected')\n",
    "        plt.plot([], [], ' ', label=\"Learning Rate: \"+str(log_reg.learning_rate))\n",
    "        plt.legend()\n",
    "        plt.show()\n",
    "   print(\"Average Accuracy: \"+str(np.mean(accuracies)))\n",
    "    mean_acc.append(np.mean(accuracies))\n"
   ]
  },
  {
   "cell_type": "code",
   "execution_count": 96,
   "metadata": {},
   "outputs": [
    {
     "data": {
      "image/png": "[encoded data removed]",
      "text/plain": [
       "<Figure size 432x288 with 1 Axes>"
      ]
     },
     "metadata": {
      "needs_background": "light"
     },
     "output_type": "display_data"
    }
   ],
   "source": [
    "plt.plot(learning_rate, mean_acc, 'o')\n",
    "plt.xscale(\"log\")\n",
    "plt.xlabel(\"log(Learning Rate)\")\n",
    "plt.ylabel(\"Mean Accuracy\")\n",
    "plt.show()\n"
   ]
  },
  {
   "cell_type": "code",
   "execution_count": null,
   "metadata": {},
   "outputs": [],
   "source": []
  }
 ],
 "metadata": {
  "kernelspec": {
   "display_name": "Python 3",
   "language": "python",
   "name": "python3"
  },
  "language_info": {
   "codemirror_mode": {
    "name": "ipython",
    "version": 3
   },
   "file_extension": ".py",
   "mimetype": "text/x-python",
   "name": "python",
   "nbconvert_exporter": "python",
   "pygments_lexer": "ipython3",
   "version": "3.6.9"
  }
 },
 "nbformat": 4,
 "nbformat_minor": 2
}
